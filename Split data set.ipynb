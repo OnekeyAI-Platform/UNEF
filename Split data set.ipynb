{
 "cells": [
  {
   "cell_type": "code",
   "execution_count": null,
   "id": "31f0e7a6",
   "metadata": {},
   "outputs": [],
   "source": [
    "import os\n",
    "import pandas as pd\n",
    "\n",
    "from onekey_algo import OnekeyDS as okds\n",
    "from onekey_algo.custom.components.comp2 import split_dataset4sol\n",
    "\n",
    "label_path = r'Path for the sample group'\n",
    "data = pd.read_csv(label_path or os.path.join(okds.ct, 'label.csv'))\n",
    "\n",
    "rt = split_dataset4sol(data, data['label'], cv=False, save_dir='path for saving', test_size=0.3, n_trails=10, random_state=80 )\n",
    "x1, x2 = rt[0]"
   ]
  },
  {
   "cell_type": "code",
   "execution_count": null,
   "id": "006b7c34",
   "metadata": {},
   "outputs": [],
   "source": [
    "x1"
   ]
  },
  {
   "cell_type": "code",
   "execution_count": null,
   "id": "a5544e6d",
   "metadata": {
    "scrolled": true
   },
   "outputs": [],
   "source": [
    "x2"
   ]
  }
 ],
 "metadata": {
  "kernelspec": {
   "display_name": "Python 3 (ipykernel)",
   "language": "python",
   "name": "python3"
  },
  "language_info": {
   "codemirror_mode": {
    "name": "ipython",
    "version": 3
   },
   "file_extension": ".py",
   "mimetype": "text/x-python",
   "name": "python",
   "nbconvert_exporter": "python",
   "pygments_lexer": "ipython3",
   "version": "3.7.12"
  }
 },
 "nbformat": 4,
 "nbformat_minor": 5
}
